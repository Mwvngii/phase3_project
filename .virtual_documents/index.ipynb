





import numpy as np
import pandas as pd
from sklearn.model_selection import train_test_split
from sklearn.preprocessing import StandardScaler, OneHotEncoder
from sklearn.compose import ColumnTransformer
from sklearn.pipeline import Pipeline
from sklearn.tree import DecisionTreeClassifier
from sklearn.linear_model import LogisticRegression
from sklearn.metrics import confusion_matrix, accuracy_score, classification_report
import seaborn as sns
import matplotlib.pyplot as plt


airline_data = pd.read_csv('Data/airline_passenger_satisfaction.csv')
airline_data.head()


# Dropping Unnamed Column
airline_data.drop(columns=['Unnamed: 0'], inplace=True)


airline_data


airline_data.info()
airline_data.shape


airline_data.describe()


# Checking for missing values by percentage
missing = (airline_data.isnull().sum()/len(airline_data))*100
missing


# Checking for duplicates
airline_data.duplicated().sum()


# Filling in for missing values with median
airline_data['arrival_delay_in_minutes'].fillna(airline_data['arrival_delay_in_minutes'].median(), inplace=True)
airline_data['arrival_delay_in_minutes'].isnull().sum()


# plt.figure(figsize=(6,4))
sns.countplot(data=airline_data, x='satisfaction', palette='Set2')
plt.title('Distribution of Customer Satisfaction')
plt.show()


X = airline_data.drop(columns=['satisfaction'])
y = airline_data['satisfaction'].apply(lambda x: 1 if x == "satisfied" else 0)


# Identifying categorical and numerical columns
categorical_cols = X.select_dtypes(include=['object']).columns
numerical_cols = X.select_dtypes(include=['int64', 'float64']).columns


preprocessor = ColumnTransformer(transformers=[('num', StandardScaler(), numerical_cols), ('cat', OneHotEncoder(), categorical_cols)])

lr = Pipeline(steps=[('preprocessor', preprocessor),('classifier', LogisticRegression(max_iter=1000, random_state=42))])
lr


dt = Pipeline(steps=[('preprocessor', preprocessor),('classifier', DecisionTreeClassifier(random_state=42))])
dt


X_train, X_test, y_train, y_test = train_test_split(X, y, test_size = 0.2, random_state = 42)

lr.fit(X_train, y_train)
lr_pred = lr.predict(X_test)

dt.fit(X_train, y_train)
dt_pred = dt.predict(X_test)


# Evaluate Logistic Regression
evaluate_model(y_test, lr_pred, "Logistic Regression")


# Evaluate Decision Tree
evaluate_model(y_test, dt_pred, "Decision Tree")






